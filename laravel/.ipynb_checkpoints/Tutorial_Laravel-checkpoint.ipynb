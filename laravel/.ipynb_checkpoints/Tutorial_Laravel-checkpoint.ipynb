{
 "cells": [
  {
   "cell_type": "markdown",
   "id": "bd58aed8-b5a6-4eab-9114-f6d82f2bacef",
   "metadata": {},
   "source": [
    "# Tutorial Laravel"
   ]
  },
  {
   "cell_type": "markdown",
   "id": "3c5884d3",
   "metadata": {},
   "source": [
    "<section>\n",
    "    <h2>Descrizione</h2>\n",
    "    <p>\n",
    "        Questo è un semplice tutorial che guida step-by-step alla creazione di un microservizio Laravel denominato <strong>Teams</strong> che si basa sull'utilizzo di un database <strong>Teams_Players</strong>.<br> Sarà possibile effettuare le seguenti operazioni C R U D :\n",
    "        <ul>\n",
    "            <li>Visione di tutti i record</li>\n",
    "            <li>Inserimento di un record</li>\n",
    "            <li>Vedere tutti i dettagli di un record</li>\n",
    "            <li>Rimozione di un record</li>\n",
    "            <li>Aggiornamento di un record</li>\n",
    "            <li>visualizzare per id</li>\n",
    "            <li>maggiorare per prezzo</li>\n",
    "        </ul>\n",
    "    </p>\n",
    "</section>"
   ]
  },
  {
   "cell_type": "markdown",
   "id": "5edb010b",
   "metadata": {},
   "source": [
    "<section>\n",
    "    <h2>Avviare il server di Laravel</h2>\n",
    "    <code>php artisan serve</code><br><br>\n",
    "    <p>Si nota che di default il server web espone l'applicazione sulla porta 8000 all'indirizzo IP 127.0.0.1 (localhost)</p>\n",
    "</section>"
   ]
  },
  {
   "cell_type": "markdown",
   "id": "982ac5d4",
   "metadata": {},
   "source": [
    "<section>\n",
    "    <h2>File .env</h2>\n",
    "    <p>Si modifica il file <strong>.env</strong> del nostro progetto inserendo il nome del database e le credenziali di accesso come segue:</p>\n",
    "    <pre><code>\n",
    "        DB_CONNECTION=mysql\n",
    "        DB_HOST=127.0.0.1\n",
    "        DB_PORT=3306\n",
    "        DB_DATABASE=Teams_Players\n",
    "        DB_USERNAME=root\n",
    "        DB_PASSWORD=root\n",
    "    </code></pre>\n",
    "    <p>Si nota che Laravel stesso provvederà alla creazione del database</p>\n",
    "</section>"
   ]
  },
  {
   "cell_type": "markdown",
   "id": "c63d3092",
   "metadata": {},
   "source": [
    "<section>\n",
    "    <h2>Model</h2>\n",
    "        Per prima cosa ci serve creare i Models \"Team\" e \"Player\". Si nota che i nomi dei model devono essere al <strong>singolare</strong> .\n",
    "    Si procede creando le migration, ovvero del codice php che verrà interpretato per la creazione delle tabelle <strong>products</strong>. Sarà necessario creare anche i Controllers e definire le Routes (rotte) per gestire la corretta navigazione tra le pagine.<br><br>\n",
    "        Laravel permette la creazione di Model, Controller e Routes con un un solo comando, specificando il solo nome del Model:<br><br>\n",
    "    <code>php artisan make:model Team -mcr</code><br>\n",
    "    <code>php artisan make:model Player -mcr</code>\n",
    "</section>"
   ]
  },
  {
   "cell_type": "markdown",
   "id": "afcb6336",
   "metadata": {},
   "source": [
    "<p>\n",
    "    Adesso in demo/database/migrations saranno apparse delle migration <strong>create_teams_table.php.</strong> e <strong>create_players_table.php.</strong>Si considera che ad un Team appartengono diversi Players, da qui la relazione one-to-many che deve essere modellata inserendo una chiave esterna nella tabella \"Players\" che farà riferimento al campo <strong>ID</strong> della tabella \"Teams\".<br><br>\n",
    "    Vogliamo modificare le funzioni <strong>up()</strong> come segue:"
   ]
  },
  {
   "cell_type": "markdown",
   "id": "e30ec313-353b-4736-8c34-4cdc0d33c926",
   "metadata": {},
   "source": [
    "<h2>Player</h2>"
   ]
  },
  {
   "cell_type": "raw",
   "id": "e49a580a-bfdc-4e55-b1a6-bf57776f44be",
   "metadata": {},
   "source": [
    "Schema::create('players', function (Blueprint $table) {\n",
    "    $table->id();\n",
    "    $table->string(\"nome\");\n",
    "    $table->integer(\"n_maglia\");\n",
    "    $table->unsignedBigInteger(\"team\");\n",
    "    $table->timestamps();\n",
    "    $table->foreign(\"team\")->references(\"id\")->on(\"teams\")->onDelete(\"cascade\");\n",
    "});"
   ]
  },
  {
   "cell_type": "markdown",
   "id": "3264ac2e-efb8-410a-844a-c001e7dc2cc6",
   "metadata": {},
   "source": [
    "<h2>Team</h2>"
   ]
  },
  {
   "cell_type": "raw",
   "id": "351d8c1d-e488-4986-be7d-16f268a641f1",
   "metadata": {},
   "source": [
    "Schema::create('teams', function (Blueprint $table) {\n",
    "    $table->id();\n",
    "    $table->string(\"nome\");\n",
    "    $table->string(\"stadio\");\n",
    "    $table->year(\"anno_fondazione\");\n",
    "    $table->timestamps();\n",
    "});"
   ]
  },
  {
   "cell_type": "markdown",
   "id": "057cae59",
   "metadata": {},
   "source": [
    "<section>\n",
    "    <h2>Avvio della migration</h2>\n",
    "    <p>Con questa fase avrà inizio la creazione delle tabelle secondo le caratteristiche da noi definite.</p>\n",
    "    <code>php artisan migrate</code>\n",
    "    <p>Se si volesse annullare la creazione si può fare rollback come segue.</p>\n",
    "    <code>php artisan migrate:rollback</code>\n",
    "    <p>Dopo l'avvio delle migration si otterranno le tabelle nel database \"Teams_Players\":</p>\n",
    "    <div style=\"display: flex; align-items: center;\">\n",
    "        <img src=\"static/img.png\" width=\"220\" height=\"80\">\n",
    "    </div>\n",
    "</section>"
   ]
  },
  {
   "cell_type": "markdown",
   "id": "05f76f08",
   "metadata": {},
   "source": [
    "<section>\n",
    "    <h2>Model e controller</h2>\n",
    "    <p>\n",
    "        Contestualmente alla creazione del controller si può indicare a Laravel che si desidera creare un opportuno Model.<br> \n",
    "        Nel nostro caso siamo interessati alla creazione di un controller <strong>ProductController</strong> e di un model <strong>Product</strong>.\n",
    "    </p>\n",
    "    <code>php artisan make:controller ProductController --resource --model=Product</code>\n",
    "    <p>\n",
    "        Adesso troveremo già pronti i boilerplates del model e del controller richiesti.<br>\n",
    "        Li troviamo rispettivamente in <i>\"app/Models/Product.php\"</i> ed in <i>\"app/http/Controllers/ProductControllers.php\".</i>\n",
    "    </p>\n",
    "</section>"
   ]
  },
  {
   "cell_type": "markdown",
   "id": "cf505ac9",
   "metadata": {},
   "source": [
    "<section>\n",
    "    <h2>Modifichiamo il model</h2>\n",
    "    <pre><code>\n",
    "    class Product extends Model\n",
    "    {\n",
    "        use HasFactory;\n",
    "        protected $table = 'products';\n",
    "        protected $primaryKey = 'id';\n",
    "        public $timestamps = false;\n",
    "        protected $fillable = ['nome', 'giacenza', 'prezzo'];\n",
    "    }\n",
    "    </code></pre>\n",
    "</section>"
   ]
  },
  {
   "cell_type": "markdown",
   "id": "c8c6d73e",
   "metadata": {},
   "source": [
    "<section>\n",
    "    <h2>Modifichiamo il controller</h2>\n",
    "    <pre><code>\n",
    "    class ProductController extends Controller\n",
    "    {\n",
    "        public function read()\n",
    "        {\n",
    "            return view('read', ['products' => Product::all()]);\n",
    "        }\n",
    "        public function create(Request $request)\n",
    "        {\n",
    "            Product::create($request->all());\n",
    "            return redirect('/read');\n",
    "        }\n",
    "        public function form(Request $request)\n",
    "        {\n",
    "            if ($request->input(\"action\") === \"Modifica\")\n",
    "            {\n",
    "                return view('update', ['product' => (object)$request->all()]);\n",
    "            }\n",
    "            if ($request->input(\"action\") === \"Rimuovi\")\n",
    "            {\n",
    "                $product = Product::find($request->input('id'));\n",
    "                $product->delete();\n",
    "            }\n",
    "            return redirect('/read');\n",
    "        }\n",
    "        public function update(Request $request)\n",
    "        {\n",
    "            $product = Product::find($request->input('id'));\n",
    "            $product->update($request->all()); // Simile alla create\n",
    "            return redirect('/read');\n",
    "        }\n",
    "    }\n",
    "    </code></pre>\n",
    "</section>"
   ]
  },
  {
   "cell_type": "markdown",
   "id": "c0d107b0",
   "metadata": {},
   "source": [
    "<section>\n",
    "    <h2>Le route</h2>\n",
    "    <p>\n",
    "        Si necessita di definire le rotte per il controllo delle chiamate rest. Le cosidette rotte si trovano nel file <i>web.php</i>.\n",
    "        Troviamo il suddetto file in <i>routes/web.php</i>. Si modifica il file come segue:\n",
    "    </p>\n",
    "    <pre><code>\n",
    "    use App\\Http\\Controllers\\ProductController;\n",
    "    Route::get('/', function () {\n",
    "        return view('index');\n",
    "    });\n",
    "    Route::get('/read', [ProductController::class, 'read']);\n",
    "    Route::post('/create', [ProductController::class, 'create']);\n",
    "    Route::post('/form', [ProductController::class, 'form']);\n",
    "    Route::post('/update', [ProductController::class, 'update']);\n",
    "    </code></pre>\n",
    "</section>"
   ]
  },
  {
   "cell_type": "markdown",
   "id": "cb1c0273",
   "metadata": {},
   "source": [
    "<section>\n",
    "    <h2>Le view</h2>\n",
    "    <p>\n",
    "        Si procede con la creazione delle viste in <i>resources/views</i>, in particolare di creano :\n",
    "        <ul>\n",
    "            <li>index.blade.php</li>\n",
    "            <li>read.blade.php</li>\n",
    "            <li>update.blade.php</li>\n",
    "        </ul>\n",
    "        Ne seguono i rispettivi contenuti:\n",
    "    </p>\n",
    "</section>"
   ]
  },
  {
   "cell_type": "markdown",
   "id": "af93297e",
   "metadata": {},
   "source": [
    "<h3>Contenuto di \"<i>index.blade.php</i>\"</h3>\n",
    "<pre><code>\n",
    "    <plaintext>\n",
    "    <html>\n",
    "    <body>\n",
    "        <h2>Products</h2>\n",
    "        <form action=\"/create\" method=\"POST\">\n",
    "            @csrf\n",
    "            Nome:<input type='text' name='nome' required><br>\n",
    "            Giacenza:<input type='text' name='giacenza' required><br>\n",
    "            Prezzo:<input type='text' name='prezzo' required><br><br>\n",
    "            <button>Inserisci</button>\n",
    "        </form>\n",
    "        <br>\n",
    "        <form action=\"/read\" method=\"GET\">\n",
    "            <button>Vedi tutti</button>\n",
    "        </form>\n",
    "    </body>\n",
    "    </html>\n"
   ]
  },
  {
   "cell_type": "markdown",
   "id": "01506306",
   "metadata": {},
   "source": [
    "<h3>Contenuto di \"<i>read.blade.php</i>\"</h3>\n",
    "<pre><code>\n",
    "    <plaintext>\n",
    "    <html>\n",
    "    <body>\n",
    "        <h3>Tutti i prodotti:</h3>\n",
    "        @foreach($products as $product)\n",
    "            <form action=\"/form\" method=\"POST\">\n",
    "                @csrf\n",
    "                <p>ID: {{$product->id}} - Nome: {{$product->nome}} - Giacenza: {{$product->giacenza}} - Prezzo: {{$product->prezzo}}</p>\n",
    "                <input type=\"hidden\" name=\"id\" value=\"{{$product->id}}\">\n",
    "                <input type=\"hidden\" name=\"nome\" value=\"{{$product->nome}}\">\n",
    "                <input type=\"hidden\" name=\"giacenza\" value=\"{{$product->giacenza}}\">\n",
    "                <input type=\"hidden\" name=\"prezzo\" value=\"{{$product->prezzo}}\">\n",
    "                <input type=\"submit\" name=\"action\" value=\"Modifica\">\n",
    "                <input type=\"submit\" name=\"action\" value=\"Rimuovi\">\n",
    "            </form>\n",
    "        @endforeach\n",
    "        <br><a href='/'><button>Torna alla home</button></a>\n",
    "    </body>\n",
    "    </html>\n"
   ]
  },
  {
   "cell_type": "markdown",
   "id": "95fe2523-e9dc-443f-babb-3d309fb7fd25",
   "metadata": {},
   "source": [
    "<h3>Contenuto di \"<i>update.blade.php</i>\"</h3>"
   ]
  },
  {
   "cell_type": "raw",
   "id": "851269f6-04bd-4438-aee3-14e0c7d7c568",
   "metadata": {},
   "source": [
    "<html>\n",
    "<body>\n",
    "    <h3>Aggiorna prodotto</h3>\n",
    "    <form action=\"/update\" method=\"POST\">\n",
    "        @csrf\n",
    "        Nome: <input type=\"text\" name=\"nome\" value=\"{{$product->nome}}\"><br> \n",
    "        Giacenza: <input type=\"text\" name=\"giacenza\" value=\"{{$product->giacenza}}\"><br>\n",
    "        Prezzo: <input type=\"text\" name=\"prezzo\" value=\"{{$product->prezzo}}\"><br><br>\n",
    "        <button type=\"submit\">Salva Modifiche</button>\n",
    "        <input type=\"hidden\" name=\"id\" value=\"{{$product->id}}\">\n",
    "    </form>\n",
    "    <br><a href='/'><button>Torna alla home</button></a>\n",
    "</body>\n",
    "</html>"
   ]
  }
 ],
 "metadata": {
  "kernelspec": {
   "display_name": "Python 3 (ipykernel)",
   "language": "python",
   "name": "python3"
  },
  "language_info": {
   "codemirror_mode": {
    "name": "ipython",
    "version": 3
   },
   "file_extension": ".py",
   "mimetype": "text/x-python",
   "name": "python",
   "nbconvert_exporter": "python",
   "pygments_lexer": "ipython3",
   "version": "3.10.12"
  }
 },
 "nbformat": 4,
 "nbformat_minor": 5
}
